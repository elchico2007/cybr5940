{
 "cells": [
  {
   "cell_type": "code",
   "execution_count": 1,
   "id": "cleared-addition",
   "metadata": {},
   "outputs": [],
   "source": [
    "# testing with Support Vector Machine (SVM) model\n",
    "from sklearn import svm\n",
    "from sklearn.multiclass import OneVsRestClassifier\n",
    "from sklearn.metrics import classification_report\n",
    "from sklearn.model_selection import train_test_split\n",
    "from sklearn.metrics import accuracy_score\n",
    "from sklearn.metrics import f1_score\n",
    "import joblib\n",
    "import pandas as pd"
   ]
  },
  {
   "cell_type": "code",
   "execution_count": 2,
   "id": "legal-consolidation",
   "metadata": {},
   "outputs": [],
   "source": [
    "# loading dataset\n",
    "traffic = pd.read_csv('Mirai_dataset.csv', sep=',')"
   ]
  },
  {
   "cell_type": "code",
   "execution_count": 3,
   "id": "ethical-italian",
   "metadata": {},
   "outputs": [
    {
     "name": "stdout",
     "output_type": "stream",
     "text": [
      "<class 'pandas.core.frame.DataFrame'>\n",
      "RangeIndex: 764136 entries, 0 to 764135\n",
      "Columns: 117 entries, null to attack\n",
      "dtypes: float64(115), int64(2)\n",
      "memory usage: 682.1 MB\n"
     ]
    }
   ],
   "source": [
    "# seeing info for the file\n",
    "traffic.info()"
   ]
  },
  {
   "cell_type": "code",
   "execution_count": 4,
   "id": "canadian-international",
   "metadata": {},
   "outputs": [],
   "source": [
    "# Drop out all data except output set\n",
    "X = traffic.drop(columns=[\"attack\"])\n",
    "# picking small data set for SVM\n",
    "X = X[100621:153621]\n",
    "# set y to only be the attack\n",
    "y = traffic['attack']\n",
    "# picking small data set for SVM\n",
    "y = y[100621:153621]"
   ]
  },
  {
   "cell_type": "code",
   "execution_count": 5,
   "id": "hearing-freight",
   "metadata": {},
   "outputs": [],
   "source": [
    "# Split the data out into training and testing sets\n",
    "#  everytime this is ran, we get a different training set\n",
    "X_train, X_test, y_train, y_test = train_test_split(X, y, test_size=0.3)"
   ]
  },
  {
   "cell_type": "code",
   "execution_count": 6,
   "id": "loose-cincinnati",
   "metadata": {},
   "outputs": [
    {
     "name": "stdout",
     "output_type": "stream",
     "text": [
      "[LibSVM]....*\n",
      "optimization finished, #iter = 4349\n",
      "obj = -24606.450341, rho = 0.911983\n",
      "nSV = 8321, nBSV = 8292\n",
      "Total nSV = 8321\n",
      "The accuracy score is: 0.8924528301886793\n"
     ]
    }
   ],
   "source": [
    "# setting classifier to be SVM\n",
    "svm_classifier = svm.SVC(C=3.0, kernel='rbf', degree=10, coef0=0.0, \n",
    "                         probability=False,tol=0.005, cache_size=200, \n",
    "                         class_weight=None, verbose=True, max_iter=-1, \n",
    "                         random_state=None)\n",
    "svm_classifier.fit(X_train, y_train)\n",
    "\n",
    "predictions = svm_classifier.predict(X_test)\n",
    "\n",
    "# test the accuracy of the data\n",
    "score = accuracy_score(y_test, predictions)\n",
    "# print Score value\n",
    "\n",
    "print(f\"The accuracy score is: {score}\")"
   ]
  },
  {
   "cell_type": "code",
   "execution_count": 7,
   "id": "functional-fusion",
   "metadata": {},
   "outputs": [
    {
     "name": "stdout",
     "output_type": "stream",
     "text": [
      "The f-measure is: 0.8935926868486289\n"
     ]
    }
   ],
   "source": [
    "# Seeing the f1_measure\n",
    "f_measure = f1_score(y_test, predictions, average='weighted')\n",
    "print(f\"The f-measure is: {f_measure}\")"
   ]
  },
  {
   "cell_type": "code",
   "execution_count": 9,
   "id": "intense-wrapping",
   "metadata": {},
   "outputs": [
    {
     "data": {
      "text/plain": [
       "['mirai_attack_SVM_classifier.joblib']"
      ]
     },
     "execution_count": 9,
     "metadata": {},
     "output_type": "execute_result"
    }
   ],
   "source": [
    "# using joblib to store the model\n",
    "joblib.dump(svm_classifier, \"mirai_attack_SVM_classifier.joblib\")"
   ]
  },
  {
   "cell_type": "code",
   "execution_count": 12,
   "id": "8700100d",
   "metadata": {},
   "outputs": [
    {
     "data": {
      "text/plain": [
       "0.8924528301886793"
      ]
     },
     "execution_count": 12,
     "metadata": {},
     "output_type": "execute_result"
    }
   ],
   "source": [
    "# using the joblib file to recall model\n",
    "svm_model = joblib.load(\"mirai_attack_SVM_classifier.joblib\")\n",
    "predictions = svm_model.predict(X_test)\n",
    "score = accuracy_score(y_test, predictions)\n",
    "score"
   ]
  },
  {
   "cell_type": "code",
   "execution_count": null,
   "id": "a5d12875",
   "metadata": {},
   "outputs": [],
   "source": []
  }
 ],
 "metadata": {
  "kernelspec": {
   "display_name": "Python 3 (ipykernel)",
   "language": "python",
   "name": "python3"
  },
  "language_info": {
   "codemirror_mode": {
    "name": "ipython",
    "version": 3
   },
   "file_extension": ".py",
   "mimetype": "text/x-python",
   "name": "python",
   "nbconvert_exporter": "python",
   "pygments_lexer": "ipython3",
   "version": "3.8.5"
  }
 },
 "nbformat": 4,
 "nbformat_minor": 5
}
