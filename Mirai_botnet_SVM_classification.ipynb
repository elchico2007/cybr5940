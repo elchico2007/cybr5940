{
 "cells": [
  {
   "cell_type": "code",
   "execution_count": 4,
   "id": "cleared-addition",
   "metadata": {},
   "outputs": [],
   "source": [
    "# testing with Support Vector Machine (SVM) model\n",
    "from sklearn import svm\n",
    "from sklearn.multiclass import OneVsRestClassifier\n",
    "from sklearn.metrics import classification_report\n",
    "from sklearn.model_selection import train_test_split\n",
    "from sklearn.metrics import accuracy_score\n",
    "from sklearn.metrics import f1_score\n",
    "import joblib\n",
    "import pandas as pd"
   ]
  },
  {
   "cell_type": "code",
   "execution_count": 5,
   "id": "legal-consolidation",
   "metadata": {},
   "outputs": [],
   "source": [
    "# loading dataset\n",
    "traffic = pd.read_csv('Mirai_dataset.csv', sep=',')"
   ]
  },
  {
   "cell_type": "code",
   "execution_count": 6,
   "id": "ethical-italian",
   "metadata": {},
   "outputs": [
    {
     "name": "stdout",
     "output_type": "stream",
     "text": [
      "<class 'pandas.core.frame.DataFrame'>\n",
      "RangeIndex: 764136 entries, 0 to 764135\n",
      "Columns: 117 entries, null to attack\n",
      "dtypes: float64(115), int64(2)\n",
      "memory usage: 682.1 MB\n"
     ]
    }
   ],
   "source": [
    "# seeing info for the file\n",
    "traffic.info()"
   ]
  },
  {
   "cell_type": "code",
   "execution_count": 7,
   "id": "canadian-international",
   "metadata": {},
   "outputs": [],
   "source": [
    "# Drop out all data except output set\n",
    "X = traffic.drop(columns=[\"attack\"])\n",
    "# picking small data set for SVM\n",
    "X = X[119621:123621]\n",
    "# set y to only be the attack\n",
    "y = traffic['attack']\n",
    "# picking small data set for SVM\n",
    "y = y[119621:123621]"
   ]
  },
  {
   "cell_type": "code",
   "execution_count": 8,
   "id": "hearing-freight",
   "metadata": {},
   "outputs": [],
   "source": [
    "# Split the data out into training and testing sets\n",
    "#  everytime this is ran, we get a different training set\n",
    "X_train, X_test, y_train, y_test = train_test_split(X, y, test_size=0.3)"
   ]
  },
  {
   "cell_type": "code",
   "execution_count": null,
   "id": "loose-cincinnati",
   "metadata": {},
   "outputs": [],
   "source": [
    "# setting classifier to be SVM\n",
    "svm_classifier = svm.SVC(kernel='linear', probability=True, class_weight='balanced')\n",
    "svm_classifier.fit(X_train, y_train)"
   ]
  },
  {
   "cell_type": "code",
   "execution_count": null,
   "id": "functional-fusion",
   "metadata": {},
   "outputs": [],
   "source": [
    "y_predict = svm_classifier.predict(X_test)\n",
    "y_predict"
   ]
  },
  {
   "cell_type": "code",
   "execution_count": null,
   "id": "intense-wrapping",
   "metadata": {},
   "outputs": [],
   "source": []
  }
 ],
 "metadata": {
  "kernelspec": {
   "display_name": "Python 3",
   "language": "python",
   "name": "python3"
  },
  "language_info": {
   "codemirror_mode": {
    "name": "ipython",
    "version": 3
   },
   "file_extension": ".py",
   "mimetype": "text/x-python",
   "name": "python",
   "nbconvert_exporter": "python",
   "pygments_lexer": "ipython3",
   "version": "3.8.5"
  }
 },
 "nbformat": 4,
 "nbformat_minor": 5
}
